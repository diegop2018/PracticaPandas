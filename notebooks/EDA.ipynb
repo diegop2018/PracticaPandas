{
 "cells": [
  {
   "cell_type": "code",
   "execution_count": 7,
   "id": "1ed948da",
   "metadata": {},
   "outputs": [],
   "source": [
    "# cargar la informacion de un archivo csv\n",
    "\n",
    "import pandas as pd\n",
    "import os\n",
    "from datetime import datetime\n",
    "\n"
   ]
  },
  {
   "cell_type": "code",
   "execution_count": 14,
   "id": "c33c2a1e",
   "metadata": {},
   "outputs": [
    {
     "name": "stdout",
     "output_type": "stream",
     "text": [
      "Directorio raíz del proyecto: c:\\Users\\DPEREZ\\OneDrive - Compurent\\Desktop\\PRODUCTO DE DATOS\\PracticaPandas\n",
      "Ruta del archivo CSV: c:\\Users\\DPEREZ\\OneDrive - Compurent\\Desktop\\PRODUCTO DE DATOS\\PracticaPandas\\src\\input\\Dataload.csv\n",
      "Directorio 'input' encontrado.\n",
      "Archivo cargado con éxito. Tamaño del DataFrame: (2889, 25)\n"
     ]
    }
   ],
   "source": [
    "import os\n",
    "import pandas as pd\n",
    "\n",
    "# Ruta del notebook: practicapandas/eda.ipynb\n",
    "# Ruta del archivo CSV: practicapandas/src/input/Dataload.csv\n",
    "\n",
    "# Ruta base: subir desde la carpeta del notebook a la raíz del proyecto\n",
    "base_dir = os.path.abspath(os.path.join(os.getcwd(), '..'))  # sube 1 nivel desde donde está el notebook\n",
    "input_dir = os.path.join(base_dir, 'src', 'input')\n",
    "file_path = os.path.join(input_dir, 'Dataload.csv')\n",
    "\n",
    "print(f\"Directorio raíz del proyecto: {base_dir}\")\n",
    "print(f\"Ruta del archivo CSV: {file_path}\")\n",
    "\n",
    "# Verificar si el directorio 'input' existe\n",
    "if not os.path.exists(input_dir):\n",
    "    print(f\"El directorio 'src/input' no existe en: {input_dir}\")\n",
    "    print(\"Directorios disponibles en base_dir:\", os.listdir(base_dir))\n",
    "else:\n",
    "    print(f\"Directorio 'input' encontrado.\")\n",
    "\n",
    "# Leer el archivo si existe\n",
    "if os.path.exists(file_path):\n",
    "    df = pd.read_csv(file_path)\n",
    "    print(f\"Archivo cargado con éxito. Tamaño del DataFrame: {df.shape}\")\n",
    "else:\n",
    "    print(f\"Archivo no encontrado en: {file_path}\")\n",
    "    print(\"Archivos disponibles en 'input':\", os.listdir(input_dir) if os.path.exists(input_dir) else \"No hay directorio.\")\n",
    "\n",
    "\n",
    "\n"
   ]
  },
  {
   "cell_type": "code",
   "execution_count": 35,
   "id": "fef99591",
   "metadata": {},
   "outputs": [
    {
     "name": "stdout",
     "output_type": "stream",
     "text": [
      "El dataset contiene 2889 filas y \n",
      " 25 columnas.\n"
     ]
    },
    {
     "data": {
      "text/plain": [
       "Nit                         0\n",
       "NOMBRE                      0\n",
       "CUPOCR                      0\n",
       "Unnamed: 3                  0\n",
       "Unnamed: 4                  0\n",
       "FECHAING                    0\n",
       "sector                      0\n",
       "NOMBRE.1                    0\n",
       "TEL1                        0\n",
       "DIRECCION                   0\n",
       "NOMBRE.2                    0\n",
       "Unnamed: 11                 0\n",
       "UltimaCompraFrontier     2414\n",
       "UltimaCompra             1502\n",
       "EsClienteFrontier           0\n",
       "UltimoAccesoFrontier     2889\n",
       "PerfilTec                   0\n",
       "UltimaVisita             2718\n",
       "RenovacionTecnologica    2889\n",
       "CodigoVendedor              0\n",
       "codigoAsesorRenta           0\n",
       "AsesorRenta                 0\n",
       "HABILITADO                  0\n",
       "COMENTARIO                  0\n",
       "perfiltecnologico           0\n",
       "dtype: int64"
      ]
     },
     "execution_count": 35,
     "metadata": {},
     "output_type": "execute_result"
    }
   ],
   "source": [
    "print(f\"El dataset contiene {len(df)} filas y \\n {len(df.columns)} columnas.\")\n",
    "df.isnull().sum()"
   ]
  }
 ],
 "metadata": {
  "kernelspec": {
   "display_name": "Python 3",
   "language": "python",
   "name": "python3"
  },
  "language_info": {
   "codemirror_mode": {
    "name": "ipython",
    "version": 3
   },
   "file_extension": ".py",
   "mimetype": "text/x-python",
   "name": "python",
   "nbconvert_exporter": "python",
   "pygments_lexer": "ipython3",
   "version": "3.12.1"
  }
 },
 "nbformat": 4,
 "nbformat_minor": 5
}
