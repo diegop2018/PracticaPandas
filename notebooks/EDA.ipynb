{
 "cells": [
  {
   "cell_type": "code",
   "execution_count": 7,
   "id": "1ed948da",
   "metadata": {},
   "outputs": [],
   "source": [
    "# cargar la informacion de un archivo csv\n",
    "\n",
    "import pandas as pd\n",
    "import os\n",
    "from datetime import datetime\n",
    "\n"
   ]
  },
  {
   "cell_type": "code",
   "execution_count": 14,
   "id": "c33c2a1e",
   "metadata": {},
   "outputs": [
    {
     "name": "stdout",
     "output_type": "stream",
     "text": [
      "Directorio raíz del proyecto: c:\\Users\\DPEREZ\\OneDrive - Compurent\\Desktop\\PRODUCTO DE DATOS\\PracticaPandas\n",
      "Ruta del archivo CSV: c:\\Users\\DPEREZ\\OneDrive - Compurent\\Desktop\\PRODUCTO DE DATOS\\PracticaPandas\\src\\input\\Dataload.csv\n",
      "Directorio 'input' encontrado.\n",
      "Archivo cargado con éxito. Tamaño del DataFrame: (2889, 25)\n"
     ]
    }
   ],
   "source": [
    "import os\n",
    "import pandas as pd\n",
    "\n",
    "# Ruta del notebook: practicapandas/eda.ipynb\n",
    "# Ruta del archivo CSV: practicapandas/src/input/Dataload.csv\n",
    "\n",
    "# Ruta base: subir desde la carpeta del notebook a la raíz del proyecto\n",
    "base_dir = os.path.abspath(os.path.join(os.getcwd(), '..'))  # sube 1 nivel desde donde está el notebook\n",
    "input_dir = os.path.join(base_dir, 'src', 'input')\n",
    "file_path = os.path.join(input_dir, 'Dataload.csv')\n",
    "\n",
    "print(f\"Directorio raíz del proyecto: {base_dir}\")\n",
    "print(f\"Ruta del archivo CSV: {file_path}\")\n",
    "\n",
    "# Verificar si el directorio 'input' existe\n",
    "if not os.path.exists(input_dir):\n",
    "    print(f\"El directorio 'src/input' no existe en: {input_dir}\")\n",
    "    print(\"Directorios disponibles en base_dir:\", os.listdir(base_dir))\n",
    "else:\n",
    "    print(f\"Directorio 'input' encontrado.\")\n",
    "\n",
    "# Leer el archivo si existe\n",
    "if os.path.exists(file_path):\n",
    "    df = pd.read_csv(file_path)\n",
    "    print(f\"Archivo cargado con éxito. Tamaño del DataFrame: {df.shape}\")\n",
    "else:\n",
    "    print(f\"Archivo no encontrado en: {file_path}\")\n",
    "    print(\"Archivos disponibles en 'input':\", os.listdir(input_dir) if os.path.exists(input_dir) else \"No hay directorio.\")\n",
    "\n",
    "\n",
    "\n"
   ]
  },
  {
   "cell_type": "code",
   "execution_count": 48,
   "id": "fef99591",
   "metadata": {},
   "outputs": [
    {
     "name": "stdout",
     "output_type": "stream",
     "text": [
      "El dataset contiene 2889 filas y \n",
      " 24 columnas.\n",
      "Columnas eliminadas: ['RenovacionTecnologica', 'UltimaCompra']\n"
     ]
    },
    {
     "data": {
      "text/plain": [
       "Index(['Nit', 'NOMBRE', 'CUPOCR', 'Unnamed: 3', 'Unnamed: 4', 'FECHAING',\n",
       "       'sector', 'NOMBRE.1', 'TEL1', 'NOMBRE.2', 'Unnamed: 11',\n",
       "       'UltimaCompraFrontier', 'EsClienteFrontier', 'UltimoAccesoFrontier',\n",
       "       'PerfilTec', 'UltimaVisita', 'CodigoVendedor', 'codigoAsesorRenta',\n",
       "       'AsesorRenta', 'HABILITADO', 'COMENTARIO', 'perfiltecnologico'],\n",
       "      dtype='object')"
      ]
     },
     "execution_count": 48,
     "metadata": {},
     "output_type": "execute_result"
    }
   ],
   "source": [
    "print(f\"El dataset contiene {len(df)} filas y \\n {len(df.columns)} columnas.\")\n",
    "\n",
    "# Verificar si las columnas existen antes de eliminarlas\n",
    "columns_to_drop = ['RenovacionTecnologica', 'UltimaCompra']\n",
    "existing_columns = [col for col in columns_to_drop if col in df.columns]\n",
    "if existing_columns:\n",
    "\tdf.drop(columns=existing_columns, inplace=True)\n",
    "\tprint(f\"Columnas eliminadas: {existing_columns}\")\n",
    "else:\n",
    "\tprint(f\"Las columnas {columns_to_drop} no existen en el DataFrame.\")\n",
    "\n",
    "df.columns\n"
   ]
  },
  {
   "cell_type": "code",
   "execution_count": 108,
   "id": "564e384c",
   "metadata": {},
   "outputs": [
    {
     "name": "stdout",
     "output_type": "stream",
     "text": [
      "sector\n",
      "INDUSTRIA                                                       863\n",
      "Name: count, dtype: int64\n",
      "                            OLS Regression Results                            \n",
      "==============================================================================\n",
      "Dep. Variable:                 CUPOCR   R-squared:                       0.003\n",
      "Model:                            OLS   Adj. R-squared:                  0.003\n",
      "Method:                 Least Squares   F-statistic:                     9.814\n",
      "Date:                Wed, 14 May 2025   Prob (F-statistic):            0.00175\n",
      "Time:                        16:50:40   Log-Likelihood:                -59189.\n",
      "No. Observations:                2889   AIC:                         1.184e+05\n",
      "Df Residuals:                    2887   BIC:                         1.184e+05\n",
      "Df Model:                           1                                         \n",
      "Covariance Type:            nonrobust                                         \n",
      "=====================================================================================\n",
      "                        coef    std err          t      P>|t|      [0.025      0.975]\n",
      "-------------------------------------------------------------------------------------\n",
      "Intercept          9.366e+06   3.67e+06      2.552      0.011    2.17e+06    1.66e+07\n",
      "perfiltecnologico  2.492e+04   7955.317      3.133      0.002    9323.754    4.05e+04\n",
      "==============================================================================\n",
      "Omnibus:                     9181.503   Durbin-Watson:                   2.003\n",
      "Prob(Omnibus):                  0.000   Jarque-Bera (JB):        822336826.706\n",
      "Skew:                          50.023   Prob(JB):                         0.00\n",
      "Kurtosis:                    2614.790   Cond. No.                         476.\n",
      "==============================================================================\n",
      "\n",
      "Notes:\n",
      "[1] Standard Errors assume that the covariance matrix of the errors is correctly specified.\n",
      "sum     3.522842e+10\n",
      "mean    1.219398e+07\n",
      "std     1.915157e+08\n",
      "min     0.000000e+00\n",
      "max     1.003031e+10\n",
      "Name: CUPOCR, dtype: float64\n"
     ]
    }
   ],
   "source": [
    "df['CUPOCR'].idxmax()\n",
    "df['CUPOCR'].idxmin()\n",
    "print(df['sector'].value_counts().head(1))\n",
    "\n",
    "import statsmodels.formula.api as sm\n",
    "\n",
    "# Example: Fit a simple linear regression model\n",
    "# Replace 'dependent_variable' and 'independent_variable' with actual column names\n",
    "model = sm.ols(formula='CUPOCR ~ perfiltecnologico', data=df).fit()\n",
    "print(model.summary())\n",
    "\n",
    "print(df['CUPOCR'].agg(['sum', 'mean', 'std', 'min', 'max']))"
   ]
  },
  {
   "cell_type": "code",
   "execution_count": 127,
   "id": "6e2d10bb",
   "metadata": {},
   "outputs": [
    {
     "data": {
      "text/plain": [
       "sector\n",
       "INDUSTRIA                                                       863\n",
       "VARIOS                                                          823\n",
       "SERVICIOS                                                       575\n",
       "COMERCIAL                                                       124\n",
       "ALIMENTOS                                                       109\n",
       "CONSTRUCCION                                                    108\n",
       "EDUCACION                                                        98\n",
       "SALUD                                                            85\n",
       "TEXTIL                                                           34\n",
       "FINANCIERO                                                       30\n",
       "AGRICULTOR                                                       15\n",
       "LEASING                                                           7\n",
       "TRANSPORTE                                                        6\n",
       "SERVICIOS PUBLICOS                                                6\n",
       "MINERO                                                            3\n",
       "TURISMO                                                           2\n",
       "TELECOMUNICACIONES                                                1\n",
       "Name: count, dtype: int64"
      ]
     },
     "execution_count": 127,
     "metadata": {},
     "output_type": "execute_result"
    }
   ],
   "source": [
    "df['FECHAING']= pd.to_datetime(df['FECHAING'])\n",
    "\n",
    "df['Mes'] = df['FECHAING'].dt.month\n",
    "df['anio'] = df['FECHAING'].dt.year\n",
    "df['dia'] = df['FECHAING'].dt.day\n",
    "\n",
    "df['sector'].value_counts().sort_values(ascending=False)"
   ]
  },
  {
   "cell_type": "code",
   "execution_count": 135,
   "id": "a1870c85",
   "metadata": {},
   "outputs": [
    {
     "data": {
      "text/plain": [
       "Index(['Unnamed: 3', 'Unnamed: 4', 'Unnamed: 11', 'EsClienteFrontier',\n",
       "       'PerfilTec', 'perfiltecnologico'],\n",
       "      dtype='object')"
      ]
     },
     "execution_count": 135,
     "metadata": {},
     "output_type": "execute_result"
    }
   ],
   "source": [
    "df.nlargest(3,'perfiltecnologico')\n",
    "df.nsmallest(3,'perfiltecnologico')\n",
    "\n",
    "df.dtypes.value_counts() #contar tipos de datos\n",
    "df.select_dtypes(include=['int64']).columns #seleccionar columnas de tipo int\n"
   ]
  }
 ],
 "metadata": {
  "kernelspec": {
   "display_name": "Python 3",
   "language": "python",
   "name": "python3"
  },
  "language_info": {
   "codemirror_mode": {
    "name": "ipython",
    "version": 3
   },
   "file_extension": ".py",
   "mimetype": "text/x-python",
   "name": "python",
   "nbconvert_exporter": "python",
   "pygments_lexer": "ipython3",
   "version": "3.12.1"
  }
 },
 "nbformat": 4,
 "nbformat_minor": 5
}
